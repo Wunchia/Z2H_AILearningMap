{
 "cells": [
  {
   "metadata": {},
   "cell_type": "markdown",
   "source": "**行魔法命令**",
   "id": "d307f81149ac5fb4"
  },
  {
   "cell_type": "code",
   "id": "initial_id",
   "metadata": {
    "collapsed": true,
    "ExecuteTime": {
     "end_time": "2025-02-17T07:57:38.173518Z",
     "start_time": "2025-02-17T07:57:38.159797Z"
    }
   },
   "source": "%load .\\test.py",
   "outputs": [],
   "execution_count": 1
  },
  {
   "metadata": {
    "ExecuteTime": {
     "end_time": "2025-02-17T07:57:38.178383Z",
     "start_time": "2025-02-17T07:57:38.173518Z"
    }
   },
   "cell_type": "code",
   "source": "%run .\\test.py",
   "id": "a025c36b2763844f",
   "outputs": [
    {
     "name": "stdout",
     "output_type": "stream",
     "text": [
      "Hello World\n",
      "I have been loaded\n"
     ]
    }
   ],
   "execution_count": 2
  },
  {
   "metadata": {
    "ExecuteTime": {
     "end_time": "2025-02-17T07:57:38.184761Z",
     "start_time": "2025-02-17T07:57:38.178383Z"
    }
   },
   "cell_type": "code",
   "source": "%pwd",
   "id": "df44156a2e58803e",
   "outputs": [
    {
     "data": {
      "text/plain": [
       "'D:\\\\Z2H_AILearningMap\\\\basic_python\\\\JupyterNotebook'"
      ]
     },
     "execution_count": 3,
     "metadata": {},
     "output_type": "execute_result"
    }
   ],
   "execution_count": 3
  },
  {
   "metadata": {
    "ExecuteTime": {
     "end_time": "2025-02-17T07:57:41.245292Z",
     "start_time": "2025-02-17T07:57:38.184761Z"
    }
   },
   "cell_type": "code",
   "source": "!!ping 127.0.0.1",
   "id": "b826411bde6485a5",
   "outputs": [
    {
     "data": {
      "text/plain": [
       "['',\n",
       " '正在 Ping 127.0.0.1 具有 32 字节的数据:',\n",
       " '来自 127.0.0.1 的回复: 字节=32 时间<1ms TTL=128',\n",
       " '来自 127.0.0.1 的回复: 字节=32 时间<1ms TTL=128',\n",
       " '来自 127.0.0.1 的回复: 字节=32 时间<1ms TTL=128',\n",
       " '来自 127.0.0.1 的回复: 字节=32 时间<1ms TTL=128',\n",
       " '',\n",
       " '127.0.0.1 的 Ping 统计信息:',\n",
       " '    数据包: 已发送 = 4，已接收 = 4，丢失 = 0 (0% 丢失)，',\n",
       " '往返行程的估计时间(以毫秒为单位):',\n",
       " '    最短 = 0ms，最长 = 0ms，平均 = 0ms']"
      ]
     },
     "execution_count": 4,
     "metadata": {},
     "output_type": "execute_result"
    }
   ],
   "execution_count": 4
  },
  {
   "metadata": {
    "ExecuteTime": {
     "end_time": "2025-02-17T07:57:41.270658Z",
     "start_time": "2025-02-17T07:57:41.247042Z"
    }
   },
   "cell_type": "code",
   "source": "!!dir *.*",
   "id": "b7fb5f364fb3561d",
   "outputs": [
    {
     "data": {
      "text/plain": [
       "[' 驱动器 D 中的卷是 新加卷',\n",
       " ' 卷的序列号是 78CF-092C',\n",
       " '',\n",
       " ' D:\\\\Z2H_AILearningMap\\\\basic_python\\\\JupyterNotebook 的目录',\n",
       " '',\n",
       " '2025/02/17  15:57    <DIR>          .',\n",
       " '2025/02/17  15:50    <DIR>          ..',\n",
       " '2025/02/17  15:57             4,251 Jupyter Magic.ipynb',\n",
       " '2025/02/17  15:48               128 test.py',\n",
       " '               2 个文件          4,379 字节',\n",
       " '               2 个目录 113,034,272,768 可用字节']"
      ]
     },
     "execution_count": 5,
     "metadata": {},
     "output_type": "execute_result"
    }
   ],
   "execution_count": 5
  },
  {
   "metadata": {
    "ExecuteTime": {
     "end_time": "2025-02-17T07:58:01.489411Z",
     "start_time": "2025-02-17T07:57:59.491189Z"
    }
   },
   "cell_type": "code",
   "source": "%time sum(range(100000000))",
   "id": "d87b91f792df7406",
   "outputs": [
    {
     "name": "stdout",
     "output_type": "stream",
     "text": [
      "CPU times: total: 1.94 s\n",
      "Wall time: 2 s\n"
     ]
    },
    {
     "data": {
      "text/plain": [
       "4999999950000000"
      ]
     },
     "execution_count": 8,
     "metadata": {},
     "output_type": "execute_result"
    }
   ],
   "execution_count": 8
  },
  {
   "metadata": {
    "ExecuteTime": {
     "end_time": "2025-02-17T07:58:23.970141Z",
     "start_time": "2025-02-17T07:58:21.860123Z"
    }
   },
   "cell_type": "code",
   "source": [
    "import random\n",
    "%timeit random.randint(1,100000)"
   ],
   "id": "f48fbe3b0969b4bb",
   "outputs": [
    {
     "name": "stdout",
     "output_type": "stream",
     "text": [
      "259 ns ± 8.81 ns per loop (mean ± std. dev. of 7 runs, 1,000,000 loops each)\n"
     ]
    }
   ],
   "execution_count": 9
  },
  {
   "metadata": {},
   "cell_type": "markdown",
   "source": "**单元魔法命令**",
   "id": "cc7235d85d17ec83"
  },
  {
   "metadata": {
    "ExecuteTime": {
     "end_time": "2025-02-17T08:03:07.431077Z",
     "start_time": "2025-02-17T08:03:07.418766Z"
    }
   },
   "cell_type": "code",
   "source": [
    "%%latex\n",
    "$$ P(A|B) = \\frac{P(B|A)P(A)}{P(B)} $$\n",
    "$$ P(A|B) = \\frac{P(B|A)P(A)}{\\sum_{i=1}^{n} P(B|A_i)P(A_i)} $$"
   ],
   "id": "5ac18846cf730a2",
   "outputs": [
    {
     "data": {
      "text/plain": [
       "<IPython.core.display.Latex object>"
      ],
      "text/latex": "$$ P(A|B) = \\frac{P(B|A)P(A)}{P(B)} $$\n$$ P(A|B) = \\frac{P(B|A)P(A)}{\\sum_{i=1}^{n} P(B|A_i)P(A_i)} $$\n"
     },
     "metadata": {},
     "output_type": "display_data"
    }
   ],
   "execution_count": 11
  },
  {
   "metadata": {
    "ExecuteTime": {
     "end_time": "2025-02-17T08:07:22.837788Z",
     "start_time": "2025-02-17T08:07:22.833364Z"
    }
   },
   "cell_type": "code",
   "source": [
    "%%HTML\n",
    "<html>\n",
    "<head>\n",
    "<meta charset=\"uft-8\">\n",
    "<title>test</title>\n",
    "</head>\n",
    "<body>\n",
    "    <h1>Bayes' theorem</h1>\n",
    "    <p>test</p>\n",
    "</body>\n",
    "</html>"
   ],
   "id": "eceeafaefd3837f",
   "outputs": [
    {
     "data": {
      "text/plain": [
       "<IPython.core.display.HTML object>"
      ],
      "text/html": [
       "<html>\n",
       "<head>\n",
       "<meta charset=\"uft-8\">\n",
       "<title>test</title>\n",
       "</head>\n",
       "<body>\n",
       "    <h1>Bayes' theorem</h1>\n",
       "    <p>test</p>\n",
       "</body>\n",
       "</html>\n"
      ]
     },
     "metadata": {},
     "output_type": "display_data"
    }
   ],
   "execution_count": 12
  },
  {
   "metadata": {
    "ExecuteTime": {
     "end_time": "2025-03-31T16:08:12.806979Z",
     "start_time": "2025-03-31T16:08:12.796369Z"
    }
   },
   "cell_type": "code",
   "source": [
    "%%HTML\n",
    "<!DOCTYPE html>\n",
    "\n",
    "<html lang=\"en\">\n",
    "  <head>\n",
    "    \n",
    "    <title>CatPhotoApp</title>\n",
    "  </head>\n",
    "  <body>\n",
    "    <main>\n",
    "      <h1>CatPhotoApp</h1>\n",
    "      <section>\n",
    "        <h2>Cat Photos</h2>\n",
    "        <p>Everyone loves <a href=\"https://cdn.freecodecamp.org/curriculum/cat-photo-app/running-cats.jpg\">cute cats</a> online!</p>\n",
    "        <p>See more <a target=\"_blank\" href=\"https://freecatphotoapp.com\">cat photos</a> in our gallery.</p>\n",
    "        <a href=\"https://freecatphotoapp.com\"><img src=\"https://cdn.freecodecamp.org/curriculum/cat-photo-app/relaxing-cat.jpg\" alt=\"A cute orange cat lying on its back.\"></a>\n",
    "      </section>\n",
    "      <section>\n",
    "        <h2>Cat Lists</h2>\n",
    "        <h3>Things cats love:</h3>\n",
    "        <ul>\n",
    "          <li>catnip</li>\n",
    "          <li>laser pointers</li>\n",
    "          <li>lasagna</li>\n",
    "        </ul>\n",
    "        <figure>\n",
    "          <img src=\"https://cdn.freecodecamp.org/curriculum/cat-photo-app/lasagna.jpg\" alt=\"A slice of lasagna on a plate.\">\n",
    "          <figcaption>Cats <em>love</em> lasagna.</figcaption>  \n",
    "        </figure>\n",
    "        <h3>Top 3 things cats hate:</h3>\n",
    "        <ol>\n",
    "          <li>flea treatment</li>\n",
    "          <li>thunder</li>\n",
    "          <li>other cats</li>\n",
    "        </ol>\n",
    "        <figure>\n",
    "          <img src=\"https://cdn.freecodecamp.org/curriculum/cat-photo-app/cats.jpg\" alt=\"Five cats looking around a field.\">\n",
    "          <figcaption>Cats <strong>hate</strong> other cats.</figcaption>  \n",
    "        </figure>\n",
    "      </section>\n",
    "      <section>\n",
    "        <h2>Cat Form</h2>\n",
    "        <form action=\"https://freecatphotoapp.com/submit-cat-photo\">\n",
    "          <fieldset>\n",
    "            <legend>Is your cat an indoor or outdoor cat?</legend>\n",
    "            <label><input id=\"indoor\" type=\"radio\" name=\"indoor-outdoor\" value=\"indoor\" checked> Indoor</label>\n",
    "            <label><input id=\"outdoor\" type=\"radio\" name=\"indoor-outdoor\" value=\"outdoor\"> Outdoor</label>\n",
    "          </fieldset>\n",
    "          <fieldset>\n",
    "            <legend>What's your cat's personality?</legend>\n",
    "            <input id=\"loving\" type=\"checkbox\" name=\"personality\" value=\"loving\" checked> <label for=\"loving\">Loving</label>\n",
    "            <input id=\"lazy\" type=\"checkbox\" name=\"personality\" value=\"lazy\"> <label for=\"lazy\">Lazy</label>\n",
    "            <input id=\"energetic\" type=\"checkbox\" name=\"personality\" value=\"energetic\"> <label for=\"energetic\">Energetic</label>\n",
    "          </fieldset>\n",
    "          <input type=\"text\" name=\"catphotourl\" placeholder=\"cat photo URL\" required>\n",
    "          <button type=\"submit\">Submit</button>\n",
    "        </form>\n",
    "      </section>\n",
    "    </main>\n",
    "    <footer>\n",
    "      <p>\n",
    "        No Copyright - <a href=\"https://www.freecodecamp.org\">freeCodeCamp.org</a>\n",
    "      </p>\n",
    "    </footer>\n",
    "  </body>\n",
    "</html>"
   ],
   "id": "4aa29f9be3b6dd85",
   "outputs": [
    {
     "data": {
      "text/plain": [
       "<IPython.core.display.HTML object>"
      ],
      "text/html": [
       "<!DOCTYPE html>\n",
       "\n",
       "<html lang=\"en\">\n",
       "  <head>\n",
       "    \n",
       "    <title>CatPhotoApp</title>\n",
       "  </head>\n",
       "  <body>\n",
       "    <main>\n",
       "      <h1>CatPhotoApp</h1>\n",
       "      <section>\n",
       "        <h2>Cat Photos</h2>\n",
       "        <p>Everyone loves <a href=\"https://cdn.freecodecamp.org/curriculum/cat-photo-app/running-cats.jpg\">cute cats</a> online!</p>\n",
       "        <p>See more <a target=\"_blank\" href=\"https://freecatphotoapp.com\">cat photos</a> in our gallery.</p>\n",
       "        <a href=\"https://freecatphotoapp.com\"><img src=\"https://cdn.freecodecamp.org/curriculum/cat-photo-app/relaxing-cat.jpg\" alt=\"A cute orange cat lying on its back.\"></a>\n",
       "      </section>\n",
       "      <section>\n",
       "        <h2>Cat Lists</h2>\n",
       "        <h3>Things cats love:</h3>\n",
       "        <ul>\n",
       "          <li>catnip</li>\n",
       "          <li>laser pointers</li>\n",
       "          <li>lasagna</li>\n",
       "        </ul>\n",
       "        <figure>\n",
       "          <img src=\"https://cdn.freecodecamp.org/curriculum/cat-photo-app/lasagna.jpg\" alt=\"A slice of lasagna on a plate.\">\n",
       "          <figcaption>Cats <em>love</em> lasagna.</figcaption>  \n",
       "        </figure>\n",
       "        <h3>Top 3 things cats hate:</h3>\n",
       "        <ol>\n",
       "          <li>flea treatment</li>\n",
       "          <li>thunder</li>\n",
       "          <li>other cats</li>\n",
       "        </ol>\n",
       "        <figure>\n",
       "          <img src=\"https://cdn.freecodecamp.org/curriculum/cat-photo-app/cats.jpg\" alt=\"Five cats looking around a field.\">\n",
       "          <figcaption>Cats <strong>hate</strong> other cats.</figcaption>  \n",
       "        </figure>\n",
       "      </section>\n",
       "      <section>\n",
       "        <h2>Cat Form</h2>\n",
       "        <form action=\"https://freecatphotoapp.com/submit-cat-photo\">\n",
       "          <fieldset>\n",
       "            <legend>Is your cat an indoor or outdoor cat?</legend>\n",
       "            <label><input id=\"indoor\" type=\"radio\" name=\"indoor-outdoor\" value=\"indoor\" checked> Indoor</label>\n",
       "            <label><input id=\"outdoor\" type=\"radio\" name=\"indoor-outdoor\" value=\"outdoor\"> Outdoor</label>\n",
       "          </fieldset>\n",
       "          <fieldset>\n",
       "            <legend>What's your cat's personality?</legend>\n",
       "            <input id=\"loving\" type=\"checkbox\" name=\"personality\" value=\"loving\" checked> <label for=\"loving\">Loving</label>\n",
       "            <input id=\"lazy\" type=\"checkbox\" name=\"personality\" value=\"lazy\"> <label for=\"lazy\">Lazy</label>\n",
       "            <input id=\"energetic\" type=\"checkbox\" name=\"personality\" value=\"energetic\"> <label for=\"energetic\">Energetic</label>\n",
       "          </fieldset>\n",
       "          <input type=\"text\" name=\"catphotourl\" placeholder=\"cat photo URL\" required>\n",
       "          <button type=\"submit\">Submit</button>\n",
       "        </form>\n",
       "      </section>\n",
       "    </main>\n",
       "    <footer>\n",
       "      <p>\n",
       "        No Copyright - <a href=\"https://www.freecodecamp.org\">freeCodeCamp.org</a>\n",
       "      </p>\n",
       "    </footer>\n",
       "  </body>\n",
       "</html>\n"
      ]
     },
     "metadata": {},
     "output_type": "display_data"
    }
   ],
   "execution_count": 1
  },
  {
   "metadata": {
    "ExecuteTime": {
     "end_time": "2025-03-31T16:10:20.751708Z",
     "start_time": "2025-03-31T16:10:20.741359Z"
    }
   },
   "cell_type": "code",
   "source": [
    "%%time\n",
    "import math\n",
    "i=0\n",
    "while i<100:\n",
    "    i+=1\n",
    "print(math.exp(i))"
   ],
   "id": "9a9ba5d189e13036",
   "outputs": [
    {
     "name": "stdout",
     "output_type": "stream",
     "text": [
      "2.6881171418161356e+43\n",
      "CPU times: total: 0 ns\n",
      "Wall time: 892 μs\n"
     ]
    }
   ],
   "execution_count": 2
  },
  {
   "metadata": {},
   "cell_type": "code",
   "outputs": [],
   "execution_count": null,
   "source": "",
   "id": "d4e6afa4a7730b94"
  }
 ],
 "metadata": {
  "kernelspec": {
   "display_name": "Python 3",
   "language": "python",
   "name": "python3"
  },
  "language_info": {
   "codemirror_mode": {
    "name": "ipython",
    "version": 2
   },
   "file_extension": ".py",
   "mimetype": "text/x-python",
   "name": "python",
   "nbconvert_exporter": "python",
   "pygments_lexer": "ipython2",
   "version": "2.7.6"
  }
 },
 "nbformat": 4,
 "nbformat_minor": 5
}
