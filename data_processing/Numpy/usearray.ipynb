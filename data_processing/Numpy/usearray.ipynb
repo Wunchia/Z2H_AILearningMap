{
 "cells": [
  {
   "cell_type": "code",
   "id": "initial_id",
   "metadata": {
    "collapsed": true,
    "ExecuteTime": {
     "end_time": "2025-03-31T15:36:40.597059Z",
     "start_time": "2025-03-31T15:36:38.607346Z"
    }
   },
   "source": "import numpy as np",
   "outputs": [],
   "execution_count": 1
  },
  {
   "metadata": {},
   "cell_type": "markdown",
   "source": "**建立数组ndarray**",
   "id": "18180d3737cff4c2"
  },
  {
   "metadata": {
    "ExecuteTime": {
     "end_time": "2025-03-31T15:36:44.929910Z",
     "start_time": "2025-03-31T15:36:44.925795Z"
    }
   },
   "cell_type": "code",
   "source": [
    "a1=np.array([1,2,3,4,5,6])#参数为列表\n",
    "print(a1)"
   ],
   "id": "57e11c1c4cc1a44b",
   "outputs": [
    {
     "name": "stdout",
     "output_type": "stream",
     "text": [
      "[1 2 3 4 5 6]\n"
     ]
    }
   ],
   "execution_count": 2
  },
  {
   "metadata": {
    "ExecuteTime": {
     "end_time": "2025-03-31T15:36:51.911468Z",
     "start_time": "2025-03-31T15:36:51.905627Z"
    }
   },
   "cell_type": "code",
   "source": "type(a1)",
   "id": "51acf1c65783ea21",
   "outputs": [
    {
     "data": {
      "text/plain": [
       "numpy.ndarray"
      ]
     },
     "execution_count": 3,
     "metadata": {},
     "output_type": "execute_result"
    }
   ],
   "execution_count": 3
  },
  {
   "metadata": {
    "ExecuteTime": {
     "end_time": "2025-03-31T15:36:59.481600Z",
     "start_time": "2025-03-31T15:36:59.476479Z"
    }
   },
   "cell_type": "code",
   "source": [
    "a2=np.array((1,2,3,4,5,6))#参数为元组\n",
    "print(a2)"
   ],
   "id": "abf676ca8a9c4edc",
   "outputs": [
    {
     "name": "stdout",
     "output_type": "stream",
     "text": [
      "[1 2 3 4 5 6]\n"
     ]
    }
   ],
   "execution_count": 4
  },
  {
   "metadata": {
    "ExecuteTime": {
     "end_time": "2025-03-31T15:37:37.220887Z",
     "start_time": "2025-03-31T15:37:37.215759Z"
    }
   },
   "cell_type": "code",
   "source": "type(a2)",
   "id": "b6cc40c99a680ca0",
   "outputs": [
    {
     "data": {
      "text/plain": [
       "numpy.ndarray"
      ]
     },
     "execution_count": 5,
     "metadata": {},
     "output_type": "execute_result"
    }
   ],
   "execution_count": 5
  },
  {
   "metadata": {
    "ExecuteTime": {
     "end_time": "2025-03-31T15:39:31.090241Z",
     "start_time": "2025-03-31T15:39:31.086155Z"
    }
   },
   "cell_type": "code",
   "source": [
    "b1=np.array([[100,98,99],[88,78,95]])#二维数组\n",
    "print(b1)"
   ],
   "id": "ec02a75d17444ded",
   "outputs": [
    {
     "name": "stdout",
     "output_type": "stream",
     "text": [
      "[[100  98  99]\n",
      " [ 88  78  95]]\n"
     ]
    }
   ],
   "execution_count": 6
  },
  {
   "metadata": {
    "ExecuteTime": {
     "end_time": "2025-03-31T15:41:20.817672Z",
     "start_time": "2025-03-31T15:41:20.813673Z"
    }
   },
   "cell_type": "code",
   "source": [
    "dem=np.array([(0,0,0),(1,1,1),(2,2,2)])#三维数组\n",
    "print(dem)"
   ],
   "id": "9f21e27ae0859f79",
   "outputs": [
    {
     "name": "stdout",
     "output_type": "stream",
     "text": [
      "[[0 0 0]\n",
      " [1 1 1]\n",
      " [2 2 2]]\n"
     ]
    }
   ],
   "execution_count": 7
  },
  {
   "metadata": {
    "ExecuteTime": {
     "end_time": "2025-03-31T15:45:07.783453Z",
     "start_time": "2025-03-31T15:45:07.780184Z"
    }
   },
   "cell_type": "code",
   "source": [
    "c1=np.array([[[11,11,11],[12,12,12]],[[21,21,21],[22,22,22]]])#三维数组\n",
    "print(c1)"
   ],
   "id": "9943fa84aa870dfb",
   "outputs": [
    {
     "name": "stdout",
     "output_type": "stream",
     "text": [
      "[[[11 11 11]\n",
      "  [12 12 12]]\n",
      "\n",
      " [[21 21 21]\n",
      "  [22 22 22]]]\n"
     ]
    }
   ],
   "execution_count": 9
  },
  {
   "metadata": {},
   "cell_type": "code",
   "outputs": [],
   "execution_count": null,
   "source": "",
   "id": "2e42cdd8eb177644"
  }
 ],
 "metadata": {
  "kernelspec": {
   "display_name": "Python 3",
   "language": "python",
   "name": "python3"
  },
  "language_info": {
   "codemirror_mode": {
    "name": "ipython",
    "version": 2
   },
   "file_extension": ".py",
   "mimetype": "text/x-python",
   "name": "python",
   "nbconvert_exporter": "python",
   "pygments_lexer": "ipython2",
   "version": "2.7.6"
  }
 },
 "nbformat": 4,
 "nbformat_minor": 5
}
