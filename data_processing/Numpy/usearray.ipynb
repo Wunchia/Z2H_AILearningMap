{
 "cells": [
  {
   "cell_type": "code",
   "id": "initial_id",
   "metadata": {
    "collapsed": true,
    "ExecuteTime": {
     "end_time": "2025-02-17T09:16:34.789554Z",
     "start_time": "2025-02-17T09:16:32.474225Z"
    }
   },
   "source": "import numpy as np",
   "outputs": [],
   "execution_count": 1
  },
  {
   "metadata": {},
   "cell_type": "markdown",
   "source": "**建立数组ndarray**",
   "id": "18180d3737cff4c2"
  },
  {
   "metadata": {
    "ExecuteTime": {
     "end_time": "2025-02-17T09:17:15.746225Z",
     "start_time": "2025-02-17T09:17:15.737899Z"
    }
   },
   "cell_type": "code",
   "source": [
    "a1=np.array([1,2,3,4,5,6])\n",
    "print(a1)"
   ],
   "id": "57e11c1c4cc1a44b",
   "outputs": [
    {
     "name": "stdout",
     "output_type": "stream",
     "text": [
      "[1 2 3 4 5 6]\n"
     ]
    }
   ],
   "execution_count": 2
  },
  {
   "metadata": {
    "ExecuteTime": {
     "end_time": "2025-02-17T09:18:17.862906Z",
     "start_time": "2025-02-17T09:18:17.857426Z"
    }
   },
   "cell_type": "code",
   "source": "type(a1)",
   "id": "51acf1c65783ea21",
   "outputs": [
    {
     "data": {
      "text/plain": [
       "numpy.ndarray"
      ]
     },
     "execution_count": 4,
     "metadata": {},
     "output_type": "execute_result"
    }
   ],
   "execution_count": 4
  },
  {
   "metadata": {
    "ExecuteTime": {
     "end_time": "2025-02-17T09:18:57.720774Z",
     "start_time": "2025-02-17T09:18:57.706510Z"
    }
   },
   "cell_type": "code",
   "source": [
    "a2=np.array((1,2,3,4,5,6))\n",
    "print(a2)"
   ],
   "id": "abf676ca8a9c4edc",
   "outputs": [
    {
     "name": "stdout",
     "output_type": "stream",
     "text": [
      "[1 2 3 4 5 6]\n"
     ]
    }
   ],
   "execution_count": 5
  },
  {
   "metadata": {
    "ExecuteTime": {
     "end_time": "2025-02-17T09:19:08.023600Z",
     "start_time": "2025-02-17T09:19:08.011825Z"
    }
   },
   "cell_type": "code",
   "source": "type(a2)",
   "id": "b6cc40c99a680ca0",
   "outputs": [
    {
     "data": {
      "text/plain": [
       "numpy.ndarray"
      ]
     },
     "execution_count": 6,
     "metadata": {},
     "output_type": "execute_result"
    }
   ],
   "execution_count": 6
  },
  {
   "metadata": {},
   "cell_type": "code",
   "outputs": [],
   "execution_count": null,
   "source": "",
   "id": "ec02a75d17444ded"
  }
 ],
 "metadata": {
  "kernelspec": {
   "display_name": "Python 3",
   "language": "python",
   "name": "python3"
  },
  "language_info": {
   "codemirror_mode": {
    "name": "ipython",
    "version": 2
   },
   "file_extension": ".py",
   "mimetype": "text/x-python",
   "name": "python",
   "nbconvert_exporter": "python",
   "pygments_lexer": "ipython2",
   "version": "2.7.6"
  }
 },
 "nbformat": 4,
 "nbformat_minor": 5
}
